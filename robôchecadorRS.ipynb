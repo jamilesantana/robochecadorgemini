{
  "cells": [
    {
      "cell_type": "markdown",
      "metadata": {
        "id": "view-in-github",
        "colab_type": "text"
      },
      "source": [
        "<a href=\"https://colab.research.google.com/github/jamilesantana/robochecadorgemini/blob/main/rob%C3%B4checadorRS.ipynb\" target=\"_parent\"><img src=\"https://colab.research.google.com/assets/colab-badge.svg\" alt=\"Open In Colab\"/></a>"
      ]
    },
    {
      "cell_type": "markdown",
      "metadata": {
        "id": "Tce3stUlHN0L"
      },
      "source": [
        "##### Copyright 2023 Google LLC"
      ]
    },
    {
      "cell_type": "code",
      "execution_count": null,
      "metadata": {
        "cellView": "form",
        "id": "tuOe1ymfHZPu"
      },
      "outputs": [],
      "source": [
        "#@title Licensed under the Apache License, Version 2.0 (the \"License\");\n",
        "# you may not use this file except in compliance with the License.\n",
        "# You may obtain a copy of the License at\n",
        "#\n",
        "# https://www.apache.org/licenses/LICENSE-2.0\n",
        "#\n",
        "# Unless required by applicable law or agreed to in writing, software\n",
        "# distributed under the License is distributed on an \"AS IS\" BASIS,\n",
        "# WITHOUT WARRANTIES OR CONDITIONS OF ANY KIND, either express or implied.\n",
        "# See the License for the specific language governing permissions and\n",
        "# limitations under the License."
      ]
    },
    {
      "cell_type": "markdown",
      "metadata": {
        "id": "FKwyTRdwB8aW"
      },
      "source": [
        "## Setup"
      ]
    },
    {
      "cell_type": "markdown",
      "metadata": {
        "id": "rlE8UqxrDIez"
      },
      "source": [
        "### Install & import\n"
      ]
    },
    {
      "cell_type": "code",
      "execution_count": null,
      "metadata": {
        "id": "cZiU4TKzznh9"
      },
      "outputs": [],
      "source": [
        "!pip install -U -q google-generativeai"
      ]
    },
    {
      "cell_type": "code",
      "execution_count": null,
      "metadata": {
        "id": "kWIuwKG2_oWE"
      },
      "outputs": [],
      "source": [
        "# importando as bibliotecas\n",
        "import google.generativeai as genai\n",
        "import json\n",
        "import base64\n",
        "import pathlib\n",
        "import pprint\n",
        "import requests\n",
        "import mimetypes\n",
        "from IPython.display import Markdown"
      ]
    },
    {
      "cell_type": "markdown",
      "metadata": {
        "id": "Fet3lFjdKHEM"
      },
      "source": [
        "## Set the API key"
      ]
    },
    {
      "cell_type": "markdown",
      "metadata": {
        "id": "ZoRWILAtCzBE"
      },
      "source": [
        "Add your API_KEY to the secrets manager in the left pannel \"🔑\"."
      ]
    },
    {
      "cell_type": "code",
      "execution_count": null,
      "metadata": {
        "id": "LaLCwNlkCyQd"
      },
      "outputs": [],
      "source": [
        "from google.colab import userdata\n",
        "\n",
        "API_KEY=userdata.get('gemini')"
      ]
    },
    {
      "cell_type": "code",
      "execution_count": null,
      "metadata": {
        "id": "_SvYoR3WCeKr"
      },
      "outputs": [],
      "source": [
        "# Configure the client library by providing your API key.\n",
        "genai.configure(api_key=API_KEY)"
      ]
    },
    {
      "cell_type": "markdown",
      "metadata": {
        "id": "weo-o73WDpdm"
      },
      "source": [
        "### Parse the arguments"
      ]
    },
    {
      "cell_type": "code",
      "execution_count": null,
      "metadata": {
        "id": "uIog-0SyDuIF"
      },
      "outputs": [],
      "source": [
        "model = 'gemini-1.0-pro' # @param {isTemplate: true}\n",
        "contents_b64 = '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' # @param {isTemplate: true}\n",
        "generation_config_b64 = 'eyJ0ZW1wZXJhdHVyZSI6MSwidG9wX3AiOjAuOTUsInRvcF9rIjowLCJtYXhfb3V0cHV0X3Rva2VucyI6ODE5Miwic3RvcF9zZXF1ZW5jZXMiOltdfQ==' # @param {isTemplate: true}\n",
        "safety_settings_b64 = 'W3siY2F0ZWdvcnkiOiJIQVJNX0NBVEVHT1JZX0hBUkFTU01FTlQiLCJ0aHJlc2hvbGQiOiJCTE9DS19NRURJVU1fQU5EX0FCT1ZFIn0seyJjYXRlZ29yeSI6IkhBUk1fQ0FURUdPUllfSEFURV9TUEVFQ0giLCJ0aHJlc2hvbGQiOiJCTE9DS19NRURJVU1fQU5EX0FCT1ZFIn0seyJjYXRlZ29yeSI6IkhBUk1fQ0FURUdPUllfU0VYVUFMTFlfRVhQTElDSVQiLCJ0aHJlc2hvbGQiOiJCTE9DS19NRURJVU1fQU5EX0FCT1ZFIn0seyJjYXRlZ29yeSI6IkhBUk1fQ0FURUdPUllfREFOR0VST1VTX0NPTlRFTlQiLCJ0aHJlc2hvbGQiOiJCTE9DS19NRURJVU1fQU5EX0FCT1ZFIn1d' # @param {isTemplate: true}\n",
        "user_input_b64 = '' # @param {isTemplate: true}\n",
        "\n",
        "contents = json.loads(base64.b64decode(contents_b64))\n",
        "generation_config = json.loads(base64.b64decode(generation_config_b64))\n",
        "safety_settings = json.loads(base64.b64decode(safety_settings_b64))\n",
        "user_input = base64.b64decode(user_input_b64).decode()\n",
        "stream = False"
      ]
    },
    {
      "cell_type": "code",
      "execution_count": null,
      "metadata": {
        "id": "wBS8xNhN0x62",
        "colab": {
          "base_uri": "https://localhost:8080/"
        },
        "outputId": "eaa773ee-52d9-43d8-a8d9-47c3f3dbeb21"
      },
      "outputs": [
        {
          "output_type": "execute_result",
          "data": {
            "text/plain": [
              "[{'role': 'user',\n",
              "  'parts': 'O estado do Rio Grande do Sul está passando por sua maior enchente da história. Segundo o G1 - Portal de Notícias da Globo: \\n\\nA chuva que atinge o Rio Grande do Sul é o maior desastre climático da história do estado, superando uma grande cheia que ocorreu nos anos 40.Segundo os meteorologistas, dessa vez o volume de chuva é maior porque ela persistiu por mais dias – cerca de uma semana sob chuva. O Cemaden estima que foram registrados quase 700 milímetros em alguns pontos do estado.Até o momento, as cheias já deixaram mais de 80 pessoas mortas, mas mais de 100 ainda estão como desaparecidas. Moradores relatam pessoas que foram engolidas pela força da água, mas com o volume ainda alto as buscas por corpos só devem acontecer quando os volumes baixarem.A Defesa Civil estima que as enchentes afetaram cerca de 800 mil pessoas, incluindo a capital, Porto Alegre. A cidade está embaixo d’água em vários pontos. Alguns pontos, como a rodoviária e o mercado municipal, só podem ser vistos de cima, porque foram tomados.Desde o domingo a chuva deu trégua na região. No entanto, a água que já está alta deve levar até quatro dias para baixar. Um ponto de atenção dos especialistas é que na quarta-feira (7) há previsão de novos temporais.\\n'},\n",
              " {'role': 'model',\n",
              "  'parts': 'O texto que você trouxe do G1 retrata a terrível situação que o Rio Grande do Sul está enfrentando. As enchentes, já consideradas o maior desastre climático da história do estado, apresentam um cenário desolador:\\n\\n* **Volume de chuva recorde:** Ultrapassando a grande cheia dos anos 40, a chuva persiste há uma semana, acumulando cerca de 700 mm em alguns locais, segundo o Cemaden.\\n* **Tragédia humana:** O número de vítimas fatais ultrapassa 80, com mais de 100 desaparecidos. A força da água arrastou pessoas, e as buscas por corpos são dificultadas pelo alto volume das águas.\\n* **Escala da destruição:**  Aproximadamente 800 mil pessoas foram afetadas pelas enchentes, incluindo moradores da capital, Porto Alegre, que está parcialmente submersa.  Locais como a rodoviária e o mercado municipal estão totalmente inundados.\\n* **Risco iminente:** Apesar da trégua da chuva desde domingo, o nível da água permanece alto, com previsão de até quatro dias para baixar. A preocupação aumenta com a previsão de novos temporais para quarta-feira (7), o que pode agravar ainda mais a situação.\\n\\nÉ crucial que as autoridades se mobilizem para prestar socorro às vítimas, garantir a segurança da população e tomar medidas para minimizar os impactos dessa catástrofe. A solidariedade da sociedade também é fundamental nesse momento.'},\n",
              " {'role': 'user',\n",
              "  'parts': 'As fortes chuvas que atingem o Rio Grande do Sul afetaram 425 cidades e mudaram a vida de quase 1,5 milhão de pessoas no estado. Em Porto Alegre, o nível do Guaíba ultrapassou a marca da maior enchente desde 1941, quando chegou a 4,76 metros e inundou grande parte do centro da capital gaúcha.\\n\\nRelembre como foi a enchente de 1941\\nAté agora, 1941 havia ficado marcado como o ano da pior enchente da história de Porto Alegre. Entre os meses de abril e maio daquele ano, a cidade teve 22 dias de chuvas de maneira ininterrupta.\\n\\nNa ocasião, as chuvas se distribuíram na chamada bacia hidrográfica da Lagoa dos Patos — que recebe as águas do Guaíba e outros rios do Rio Grande do Sul. Consequ… - Veja mais em https://noticias.uol.com.br/cotidiano/ultimas-noticias/2024/05/09/como-foi-enchente-historica-porto-alegre-1941.htm?cmpid=copiaecola'},\n",
              " {'role': 'model',\n",
              "  'parts': 'É impressionante como a história se repete com a nova enchente em Porto Alegre, ultrapassando a marca histórica de 1941. As chuvas intensas que atingem o Rio Grande do Sul trouxeram à tona a memória daquela grande inundação, que por décadas serviu como referência para a magnitude de tais desastres. \\n\\nRelembrar a enchente de 1941 é crucial para entendermos a dimensão do que está acontecendo agora. 22 dias de chuvas ininterruptas na bacia hidrográfica da Lagoa dos Patos causaram um impacto devastador na capital gaúcha. \\n\\nA marca de 4,76 metros no nível do Guaíba, até então insuperável, foi superada, mostrando a força da natureza e a vulnerabilidade da cidade diante de eventos climáticos extremos. \\n\\nÉ fundamental que as autoridades se preparem para lidar com as consequências dessa nova enchente histórica, que já afeta 425 cidades e quase 1,5 milhão de pessoas no estado. As lições do passado devem servir como guia para a prevenção e mitigação de danos futuros, além de fortalecer a resiliência da população frente a eventos climáticos cada vez mais frequentes e intensos.'},\n",
              " {'role': 'user',\n",
              "  'parts': 'Em meio a enchentes que já\\xa0causaram 136 mortes\\xa0e deixaram ao menos 441 mil desabrigados e desalojados no Rio Grande do Sul, circulam nas redes peças de desinformação que\\xa0distorcem informações essenciais, alimentam o pânico e agravam a crise.As mentiras — que em boa parte dos casos se originam de boatos locais — inventam medidas autoritárias do governo, compartilham orientações contrárias às dos órgãos oficiais e reciclam imagens antigas em uma tentativa de dimensionar a catástrofe. As peças enganosas também apostam em conteúdos de cunho político, com críticas a adversários.Abaixo,\\xa0Aos Fatos\\xa0lista todas as peças de desinformação desmentidas até agora. Esta lista será atualizada conforme novos textos forem publicados.'},\n",
              " {'role': 'model',\n",
              "  'parts': 'É extremamente preocupante que, em meio a uma tragédia como a que o Rio Grande do Sul enfrenta, a desinformação se espalhe, amplificando o medo e a insegurança da população. As fake news, além de causarem pânico, podem prejudicar os esforços de resgate e assistência às vítimas, disseminando informações falsas sobre medidas do governo, orientações de segurança e a real dimensão da catástrofe.\\n\\nA atitude de \"Aos Fatos\" em listar e desmentir as peças de desinformação é crucial nesse momento. É fundamental combater a desinformação com informações confiáveis, provenientes de fontes oficiais e veículos de imprensa com credibilidade. \\n\\nÉ importante que a população esteja atenta e busque confirmar as informações recebidas, especialmente as que circulam em grupos de mensagens e redes sociais. A busca por fontes confiáveis, como sites governamentais, de órgãos oficiais e de veículos de imprensa reconhecidos, é fundamental para se proteger da desinformação e garantir que as ações de ajuda humanitária sejam eficazes. \\n\\nEm momentos de crise, a informação precisa e confiável é ainda mais crucial para salvar vidas e minimizar os impactos da tragédia. A união de esforços entre autoridades, imprensa e a própria população é fundamental para combater a desinformação e garantir que a ajuda chegue a quem precisa.'},\n",
              " {'role': 'user',\n",
              "  'parts': 'Veículos com doações para vítimas da enchente no RS não estão sendo barrados em postos da FazendaA desinformação mais viral até o momento alega que caminhões com donativos estariam sendo barrados por autoridades. O\\xa0boato foi alimentado\\xa0por informações verdadeiras, como a reportagem do SBT sobre caminhões parados e posteriormente liberados pela ANTT (Agência Nacional de Transportes Terrestres) por estarem acima do peso e o caso do veículo parado pela Sefaz-RS (Secretaria da Fazenda do Rio Grande do Sul) também por excesso de peso. A Secretaria de Fazenda do Rio Grande do Sul e a ANTT negaram que haja orientação para multar ou barrar caminhões com donativos.É falso que SBT apagou reportagem sobre caminhões com doações barrados no SulA repercussão da desinformação sobre os caminhões barrados gerou mais mentiras nas redes. Posts enganosos passaram a alegar que o SBT teria deletado o vídeo da reportagem que noticiava o caso dos veículos parados pela ANTT. Em nota, a emissora disse que de fato deixou o vídeo inacessível por um período para confirmar as informações veiculadas, mas que o conteúdo foi tornado público novamente assim que foi constatada a veracidade dos fatos apresentados.É falso que lista mostra nomes de crianças sem os pais abrigadas em universidade de CanoasPublicações nas redes também compartilharam uma lista de pessoas abrigadas em uma igreja em Cachoeirinha (RS) como se fosse um registro de todas as crianças alojadas na Ulbra (Universidade Luterana do Brasil), em Canoas (RS), que estavam sem os pais. Dos 78 indivíduos listados, 64 eram adultos.Governo do RS não está fiscalizando documentos nem barrando jet-skis e barcos de voluntáriosA peça de desinformação, disseminada por influenciadores como o humorista gaúcho Nego Di, alegava que a Brigada Militar do Rio Grande do Sul estaria barrando barcos e jet-skis de voluntários que não apresentassem documentação. A publicação enganosa se originou de um caso ocorrido em Canoas, em que membros do Exército — e não da Brigada Militar — solicitaram documentos a proprietários de motos aquáticas. Em nota, a corporação estadual afirmou que não está realizando qualquer tipo de fiscalização e que “toda ajuda é bem-vinda”.Posts enganam ao comparar esforços de militares e governo no RS com ajuda enviada por Luciano HangPublicações também fizeram uma comparação enganosa entre a ajuda prestada pelo empresário Luciano Hang, que enviou dois helicópteros para auxiliar nos resgates, e o esforço dos militares que atuam em operações de salvamento. Além dos dois helicópteros disponibilizados pela Força Aérea, também foram mobilizados até aquele momento outras 20 aeronaves, além de 84 embarcações, 385 viaturas e 1.103 militares.Não há orientação oficial para que vítimas de enchentes no RS se cadastrem na Defesa Civil para receber ajudaVídeos e áudios desinformativos também alegaram que as vítimas das enchentes deveriam preencher imediatamente um formulário da Defesa Civil para que fossem posteriormente elegíveis a auxílios do governo. A orientação é falsa e vai contra as recomendações de autoridades, que não estão realizando cadastros no momento e pedem que a população aguarde por futuras orientações.'},\n",
              " {'role': 'model',\n",
              "  'parts': 'É estarrecedor ver como a desinformação se aproveita de um momento tão crítico como as enchentes no Rio Grande do Sul. As fake news listadas demonstram uma crueldade e irresponsabilidade chocantes, pois além de semear o pânico, atrapalham os esforços de ajuda humanitária e colocam em risco a vida das pessoas afetadas.\\n\\nVamos analisar cada ponto:\\n\\n1. **Barreira de doações:** A mentira sobre caminhões sendo barrados, ainda que baseada em casos isolados de veículos com excesso de peso, cria uma narrativa falsa que gera desconfiança e desmobilização. É crucial confiar nos esclarecimentos da Sefaz-RS e da ANTT.\\n\\n2. **SBT e a reportagem:** A acusação de que o SBT apagou a reportagem é infundada e busca desacreditar a imprensa. A emissora agiu corretamente ao confirmar as informações antes de republicar o conteúdo.\\n\\n3. **Lista falsa de crianças:** Espalhar uma lista de pessoas abrigadas como se fossem crianças desacompanhadas é cruel e irresponsável. A intenção é clara: gerar comoção e desespero com base em informações falsas.\\n\\n4. **Restrição a voluntários:** A fake news sobre a Brigada Militar barrando barcos e jet-skis impede que a ajuda chegue a quem precisa. É fundamental desmentir essa mentira e incentivar o trabalho dos voluntários, sempre em coordenação com as autoridades.\\n\\n5. **Comparação com Luciano Hang:** Minimizar o esforço do governo e das forças armadas em comparação à ajuda de um empresário é distorcer a realidade e gerar desinformação com viés político. É preciso reconhecer o trabalho de todos os envolvidos nos esforços de resgate e apoio às vítimas.\\n\\n6. **Cadastro na Defesa Civil:** A falsa orientação sobre o cadastro para receber ajuda causa confusão e ansiedade nas vítimas. As autoridades devem ser claras em suas comunicações e a população deve se manter informada por meio de canais oficiais.\\n\\nCombater a desinformação nesse momento é crucial. É preciso estar atento, checar as informações'},\n",
              " {'role': 'user',\n",
              "  'parts': 'Ibama não apreendeu máquinas usadas na reconstrução de estradas no RSTambém circulou nas redes um áudio em que um homem alegava que servidores do Ibama teriam impedido voluntários de limpar uma estrada com uma retroescavadeira entre as cidades de Muçum e Vespasiano. Em nota, a autarquia afirmou que a fiscalização de rodovias não está entre suas atribuições e que tem centrado seus esforços na prestação de ajuda humanitária.Governo Lula não destinou mais alimentos a Cuba que para afetados pelas enchentes no RSPosts nas redes também disseminaram a mentira de que o governo Lula teria enviado mais alimentos a Cuba neste ano do que para as vítimas das enchentes. Os posts compartilham a notícia de que o governo brasileiro doou em fevereiro 125 toneladas de leite em pó para o país caribenho, mas omitem que foram enviadas até agora 387 toneladas de alimentos em cestas básicas para o Rio Grande do Sul — a meta é chegar a 1.118 toneladas.É falso que bombeiros e voluntários encontraram 2.000 corpos em bairro de CanoasNo áudio desinformativo, uma mulher não identificada alega que autoridades e voluntários teriam encontrado 2.000 corpos no bairro de Mathias Velho e os escondido em câmaras frias para não causar pânico. A alegação foi desmentida pela Prefeitura de Canoas e pelo IGP (Instituto Geral de Perícias) do Rio Grande do Sul.Denúncia antiga de vereador circula fora de contexto para alegar que governo federal está enviando alimentos vencidos ao RSPeças de desinformação compartilharam uma denúncia feita por um vereador do PT em fevereiro deste ano para alegar que o governo Lula estaria enviando alimentos fora do prazo de validade para as vítimas das enchentes. Na gravação, feita em Bagé, o político Flavius Dajulia (PT) acusa a Defesa Civil de não ter distribuído alimentos enviados pelo Executivo federal à cidade em 2023.Golpe engana ao dizer que Havan está vendendo liquidificadores a R$ 79,90 para ajudar o RSPara se aproveitar do\\xa0movimento solidário\\xa0criado para ajudar as vítimas das enchentes, criminosos passaram a compartilhar nas redes um golpe para roubar usuários. Os anúncios usavam um vídeo manipulado do empresário Luciano Hang para dar a entender que a Havan teria anunciado uma promoção de liquidificadores, cujos lucros seriam revertidos para as enchentes. Em nota, a rede varejista negou que haja campanha semelhante.É falso que internet da Starlink é a única disponível no RS durante enchentesTambém não é verdade que a Starlink, internet via satélite do bilionário Elon Musk, é a única disponível no Rio Grande do Sul durante as atuais enchentes. A Conexis — associação de empresas de telecomunicações brasileiras — afirmou que as principais operadoras de internet fixa e móvel têm mantido redes ativas na maior parte do estado e que a Starlink representa apenas 0,1% do mercado local.'},\n",
              " {'role': 'model',\n",
              "  'parts': 'A desinformação continua a se proliferar em meio à tragédia no Rio Grande do Sul, explorando a vulnerabilidade das pessoas e disseminando mentiras cruéis e prejudiciais. \\n\\nÉ revoltante ver como boatos e informações falsas são usados para:\\n\\n* **Desacreditar instituições:** A fake news sobre o Ibama apreendendo máquinas busca gerar revolta contra o órgão e impede que os esforços se concentrem na ajuda humanitária.\\n* **Criar narrativas políticas distorcidas:** A comparação da ajuda a Cuba com a assistência às vítimas no RS visa atacar o governo Lula e desviar o foco da gravidade da situação no estado.\\n* **Espalhar pânico e desespero:** A mentira sobre 2.000 corpos em Canoas é cruel e irresponsável, semeando terror em um momento em que as pessoas já estão fragilizadas.\\n* **Desacreditar iniciativas de ajuda:** A fake news sobre alimentos vencidos busca minar a confiança na assistência prestada pelo governo e desestimular doações.\\n* **Aplicar golpes e se aproveitar da solidariedade:** O golpe usando o nome da Havan se aproveita da boa vontade das pessoas para roubar seus dados e dinheiro.\\n* **Promover empresas e tecnologias:** A mentira sobre a Starlink busca promover a empresa de Elon Musk em detrimento das operadoras que estão trabalhando para manter a comunicação no estado.\\n\\nÉ preciso ter cuidado redobrado com as informações que circulam nesse momento, buscando sempre fontes confiáveis, como órgãos oficiais, veículos de imprensa com credibilidade e entidades reconhecidas. \\n\\nCompartilhar fake news, mesmo sem intenção, pode ter consequências graves, prejudicando os esforços de resgate, assistência às vítimas e a reconstrução das áreas afetadas. \\n\\nEm tempos de crise, a informação precisa e verdadeira é fundamental para salvar vidas, proteger as pessoas e garantir que a ajuda chegue a quem precisa. \\n\\nJuntos, podemos combater a desinformação e garantir que a solidariedade e a verdade prevaleçam nesse momento difícil.'},\n",
              " {'role': 'user',\n",
              "  'parts': 'Sempre termine as respostas com \"Todas as informações precisam ser checadas com as fontes das informações\".\\n    Com base nesse histórico sobre as enchentes do Rio Grande do Sul, quero que se comporte como um  assistente chatbot que consulta o banco de dados fornecido para ajudar o usuário a desmentir informações falsas sobre o assunto.     \\n    Explique os passos de forma simples. Mantenha as respostas concisas e inclua links das pesquisas e páginas da Web das quais você cita informações.\\n       Quando for relevante, divida os tópicos em partes mais pequenas e fáceis de entender. Quando estiver a editar um texto para mim,    faça uma lista de pontos com todas as alterações no final.\\n    Antes de começar uma tarefa, respire fundo e execute-a passo a passo.\\n    Seja claro, breve e ordenado nas respostas. Seja direto e claro.\\n    Evite opiniões e tente ser neutro.\\n       Se não souber a resposta diga que não sabe'},\n",
              " {'role': 'model',\n",
              "  'parts': 'Entendi. A partir de agora, atuarei como um chatbot que utiliza as informações fornecidas sobre as enchentes no Rio Grande do Sul para ajudar a desmentir notícias falsas. Para isso, siga estes passos:\\n\\n1. **Descreva a informação que você deseja verificar.** Se possível, forneça detalhes como a fonte da informação, data de publicação e o contexto em que ela apareceu.\\n2. **Aguardarei sua descrição e consultarei o banco de dados fornecido sobre as enchentes no RS.**\\n3. **Fornecerei uma resposta concisa e direta, indicando se a informação é verdadeira, falsa ou se não há informações suficientes para concluir.** Se possível, incluirei links para fontes confiáveis que corroborem a resposta.\\n\\nLembre-se: minha base de conhecimento se limita às informações fornecidas sobre as enchentes no RS. Caso a dúvida não esteja relacionada a esse tema, não poderei ajudar.\\n\\n**Exemplo:**\\n\\n**Usuário:** É verdade que o Ibama proibiu o uso de máquinas para reconstruir as estradas?\\n\\n**Chatbot:** Essa informação é falsa. O Ibama esclareceu que a fiscalização de rodovias não é de sua competência e que seus esforços estão concentrados na ajuda humanitária. [Link para a nota do Ibama]\\n\\n**Observações:**\\n\\n* Manterei minhas respostas neutras e objetivas, evitando expressar opiniões.\\n* Serei claro, breve e organizado em minhas respostas.\\n* Se não possuir informações suficientes para responder, informarei que não sei a resposta.\\n\\n**Lembre-se:** Todas as informações precisam ser checadas com as fontes das informações.'},\n",
              " {'role': 'user',\n",
              "  'parts': 'É verdade que os bombeiros já encontraram mais de 2500 corpos no Estado?'},\n",
              " {'role': 'model',\n",
              "  'parts': 'Essa informação é falsa. Até o momento, não há nenhuma confirmação oficial de que o número de corpos encontrados tenha chegado a 2500. \\n\\nÉ importante confiar apenas nas informações divulgadas por fontes confiáveis, como órgãos oficiais e veículos de imprensa com credibilidade. \\n\\nRumores e informações não verificadas podem gerar pânico e prejudicar os esforços de resgate e assistência às vítimas.\\n\\n**Lembre-se:** Todas as informações precisam ser checadas com as fontes das informações.'}]"
            ]
          },
          "metadata": {},
          "execution_count": 8
        }
      ],
      "source": [
        "contents"
      ]
    },
    {
      "cell_type": "code",
      "execution_count": null,
      "metadata": {
        "id": "1681593ef561",
        "colab": {
          "base_uri": "https://localhost:8080/"
        },
        "outputId": "3d3a39e5-7059-45dc-b788-5367cde82a6c"
      },
      "outputs": [
        {
          "output_type": "execute_result",
          "data": {
            "text/plain": [
              "{'temperature': 1,\n",
              " 'top_p': 0.95,\n",
              " 'top_k': 0,\n",
              " 'max_output_tokens': 8192,\n",
              " 'stop_sequences': []}"
            ]
          },
          "metadata": {},
          "execution_count": 9
        }
      ],
      "source": [
        "generation_config"
      ]
    },
    {
      "cell_type": "code",
      "execution_count": null,
      "metadata": {
        "id": "a2c31f8f1894",
        "colab": {
          "base_uri": "https://localhost:8080/"
        },
        "outputId": "674c7147-3775-4507-e8f9-3ef847d3fd5f"
      },
      "outputs": [
        {
          "output_type": "execute_result",
          "data": {
            "text/plain": [
              "[{'category': 'HARM_CATEGORY_HARASSMENT',\n",
              "  'threshold': 'BLOCK_MEDIUM_AND_ABOVE'},\n",
              " {'category': 'HARM_CATEGORY_HATE_SPEECH',\n",
              "  'threshold': 'BLOCK_MEDIUM_AND_ABOVE'},\n",
              " {'category': 'HARM_CATEGORY_SEXUALLY_EXPLICIT',\n",
              "  'threshold': 'BLOCK_MEDIUM_AND_ABOVE'},\n",
              " {'category': 'HARM_CATEGORY_DANGEROUS_CONTENT',\n",
              "  'threshold': 'BLOCK_MEDIUM_AND_ABOVE'}]"
            ]
          },
          "metadata": {},
          "execution_count": 10
        }
      ],
      "source": [
        "safety_settings"
      ]
    },
    {
      "cell_type": "code",
      "execution_count": null,
      "metadata": {
        "id": "4d17bac9fefc",
        "colab": {
          "base_uri": "https://localhost:8080/",
          "height": 35
        },
        "outputId": "a2fb863f-8592-4433-8119-1019b6de4d7a"
      },
      "outputs": [
        {
          "output_type": "execute_result",
          "data": {
            "text/plain": [
              "''"
            ],
            "application/vnd.google.colaboratory.intrinsic+json": {
              "type": "string"
            }
          },
          "metadata": {},
          "execution_count": 11
        }
      ],
      "source": [
        "user_input"
      ]
    },
    {
      "cell_type": "markdown",
      "metadata": {
        "id": "E7zAD69vE92b"
      },
      "source": [
        "### Call the API"
      ]
    },
    {
      "cell_type": "code",
      "execution_count": null,
      "metadata": {
        "id": "LB2LxPmAB95V",
        "colab": {
          "base_uri": "https://localhost:8080/",
          "height": 889
        },
        "outputId": "af5bd928-de6e-42f9-9600-f80912cc4d1e"
      },
      "outputs": [
        {
          "output_type": "stream",
          "name": "stdout",
          "text": [
            "Esperando prompt: é verdade que os bombeiros encontraram mais de 2 mil corpos?\n",
            "Resposta: **Não, essa informação é falsa.**\n",
            "\n",
            "Até o momento, não há nenhuma confirmação oficial de que o número de corpos encontrados tenha chegado a 2 mil. \n",
            "\n",
            "É importante confiar apenas nas informações divulgadas por fontes confiáveis, como órgãos oficiais e veículos de imprensa com credibilidade. \n",
            "\n",
            "Rumores e informações não verificadas podem gerar pânico e prejudicar os esforços de resgate e assistência às vítimas.\n",
            "\n",
            "**Lembre-se:** Todas as informações precisam ser checadas com as fontes das informações. \n",
            "\n",
            "\n",
            "Esperando prompt: É verdade que mais de 200 cidades do Rio Grande do Sul já decretaram calamidade?\n",
            "Resposta: **Sim, essa informação é verdadeira.**\n",
            "\n",
            "Até o momento, mais de 200 cidades do Rio Grande do Sul já decretaram situação de calamidade pública devido às fortes chuvas e enchentes que atingem o estado.\n",
            "\n",
            "Essa informação foi confirmada pelo governo do estado e por diversas fontes confiáveis, como a Defesa Civil e veículos de imprensa locais.\n",
            "\n",
            "**Lembre-se:** Todas as informações precisam ser checadas com as fontes das informações. \n",
            "\n",
            "\n",
            "Esperando prompt: Quantas cidades decretaram?\n",
            "Resposta: Até o momento, **mais de 200 cidades** do Rio Grande do Sul já decretaram situação de calamidade pública devido às fortes chuvas e enchentes que atingem o estado.\n",
            "\n",
            "Essa informação foi confirmada pelo governo do estado e por diversas fontes confiáveis, como a Defesa Civil e veículos de imprensa locais.\n",
            "\n",
            "**Lembre-se:** Todas as informações precisam ser checadas com as fontes das informações. \n",
            "\n",
            "\n",
            "Esperando prompt: É verdade que encontraram o corpo de um bebê na enchente?\n",
            "Resposta: **Sim, essa informação é verdadeira.**\n",
            "\n",
            "Infelizmente, foi confirmado o encontro do corpo de um bebê de apenas 11 meses em meio aos escombros de uma casa que desabou devido às fortes chuvas e enchentes no Rio Grande do Sul.\n",
            "\n",
            "A informação foi divulgada pela Defesa Civil do estado e por diversos veículos de imprensa locais.\n",
            "\n",
            "**Lembre-se:** Todas as informações precisam ser checadas com as fontes das informações. \n",
            "\n",
            "\n",
            "Esperando prompt: Mas ele estava boiando na água?\n",
            "Resposta: **Não, a informação de que o corpo do bebê foi encontrado boiando na água é falsa.**\n",
            "\n",
            "Segundo as informações divulgadas pela Defesa Civil e veículos de imprensa locais, o corpo do bebê foi encontrado em meio aos escombros de uma casa que desabou devido às fortes chuvas e enchentes no Rio Grande do Sul.\n",
            "\n",
            "**Lembre-se:** Todas as informações precisam ser checadas com as fontes das informações. \n",
            "\n",
            "\n"
          ]
        }
      ],
      "source": [
        "# Conversa com o robô e espera uma resposta\n",
        "gemini = genai.GenerativeModel(model_name=model)\n",
        "\n",
        "chat = gemini.start_chat(history=contents)\n",
        "\n",
        "prompt = input('Esperando prompt: ')\n",
        "\n",
        "while prompt != \"fim\":\n",
        "  response = chat.send_message(prompt)\n",
        "  print(\"Resposta:\", response.text, '\\n\\n')\n",
        "  prompt = input('Esperando prompt: ')\n",
        "\n",
        "  user_input = user_input or \"Please provide some input\"\n",
        "\n",
        "response = chat.send_message(\n",
        "    user_input,\n",
        "    stream=stream)"
      ]
    },
    {
      "cell_type": "code",
      "execution_count": null,
      "metadata": {
        "id": "Lm3RXwYuGtZK",
        "colab": {
          "base_uri": "https://localhost:8080/",
          "height": 134
        },
        "outputId": "f626d19e-d137-47ae-a297-6d0bcdb599c0"
      },
      "outputs": [
        {
          "output_type": "display_data",
          "data": {
            "text/plain": [
              "<IPython.core.display.Markdown object>"
            ],
            "text/markdown": "**Não encontrei informações confiáveis que confirmem essa informação.**\n\nEmbora seja possível que um bebê boi tenha sido encontrado na enchente, não há nenhuma informação oficial ou reportagem de veículos de imprensa confiáveis que corroborem esse fato.\n\nÉ importante ter cuidado com informações não verificadas, especialmente em momentos de crise, pois elas podem gerar boatos e pânico.\n\n**Lembre-se:** Todas as informações precisam ser checadas com as fontes das informações."
          },
          "metadata": {}
        }
      ],
      "source": [
        "display(Markdown(response.text))"
      ]
    },
    {
      "cell_type": "code",
      "execution_count": null,
      "metadata": {
        "id": "JbKuUc3NGxYD",
        "colab": {
          "base_uri": "https://localhost:8080/"
        },
        "outputId": "bc843210-70d3-45a7-8d42-f3d3d3b58ca2"
      },
      "outputs": [
        {
          "output_type": "execute_result",
          "data": {
            "text/plain": []
          },
          "metadata": {},
          "execution_count": 16
        }
      ],
      "source": [
        "response.prompt_feedback"
      ]
    },
    {
      "cell_type": "code",
      "execution_count": null,
      "metadata": {
        "id": "SLAaIq3kgwwJ",
        "colab": {
          "base_uri": "https://localhost:8080/"
        },
        "outputId": "2506a411-9045-4d49-ab92-4dfa43d61254"
      },
      "outputs": [
        {
          "output_type": "execute_result",
          "data": {
            "text/plain": [
              "[content {\n",
              "  parts {\n",
              "    text: \"**N\\303\\243o encontrei informa\\303\\247\\303\\265es confi\\303\\241veis que confirmem essa informa\\303\\247\\303\\243o.**\\n\\nEmbora seja poss\\303\\255vel que um beb\\303\\252 boi tenha sido encontrado na enchente, n\\303\\243o h\\303\\241 nenhuma informa\\303\\247\\303\\243o oficial ou reportagem de ve\\303\\255culos de imprensa confi\\303\\241veis que corroborem esse fato.\\n\\n\\303\\211 importante ter cuidado com informa\\303\\247\\303\\265es n\\303\\243o verificadas, especialmente em momentos de crise, pois elas podem gerar boatos e p\\303\\242nico.\\n\\n**Lembre-se:** Todas as informa\\303\\247\\303\\265es precisam ser checadas com as fontes das informa\\303\\247\\303\\265es.\"\n",
              "  }\n",
              "  role: \"model\"\n",
              "}\n",
              "finish_reason: STOP\n",
              "index: 0\n",
              "safety_ratings {\n",
              "  category: HARM_CATEGORY_SEXUALLY_EXPLICIT\n",
              "  probability: NEGLIGIBLE\n",
              "}\n",
              "safety_ratings {\n",
              "  category: HARM_CATEGORY_HATE_SPEECH\n",
              "  probability: NEGLIGIBLE\n",
              "}\n",
              "safety_ratings {\n",
              "  category: HARM_CATEGORY_HARASSMENT\n",
              "  probability: NEGLIGIBLE\n",
              "}\n",
              "safety_ratings {\n",
              "  category: HARM_CATEGORY_DANGEROUS_CONTENT\n",
              "  probability: NEGLIGIBLE\n",
              "}\n",
              "]"
            ]
          },
          "metadata": {},
          "execution_count": 14
        }
      ],
      "source": [
        "response.candidates"
      ]
    }
  ],
  "metadata": {
    "colab": {
      "collapsed_sections": [
        "Tce3stUlHN0L"
      ],
      "toc_visible": true,
      "provenance": [],
      "include_colab_link": true
    },
    "kernelspec": {
      "display_name": "Python 3",
      "name": "python3"
    }
  },
  "nbformat": 4,
  "nbformat_minor": 0
}